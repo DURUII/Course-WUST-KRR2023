{
 "cells": [
  {
   "cell_type": "markdown",
   "source": [
    "# Task 2\n",
    "\n",
    "Formulate the additional rules for Hyper Suduku's in clausal form (the 4 inner squares must also be filled with all numbers 0-9. Add these files to sudoku-rule.txt and save it as `hypersudoku-rules.txt`."
   ],
   "metadata": {
    "collapsed": false
   }
  },
  {
   "cell_type": "code",
   "execution_count": 1,
   "outputs": [],
   "source": [
    "import os\n",
    "\n",
    "step = 3\n",
    "fout = open('./hypersudoku-rules.txt', 'w+')\n",
    "\n",
    "# Normal Sudoku Rules\n",
    "fin = open('./sudoku-rules.txt', 'r')\n",
    "fout.writelines(fin.readlines())\n",
    "\n",
    "# Additional Rules: No number appears twice in a box\n",
    "for dx, dy in [(2, 2), (2, 6), (6, 2), (6, 6)]:\n",
    "    x, y = 0, 0\n",
    "    for val in range(1, 10):\n",
    "        for i in range(0, step ** 2):\n",
    "            ix, iy = (x * step + y + i) // step, (x * step + y + i) % step\n",
    "            for j in range(i + 1, step ** 2):\n",
    "                jx, jy = (x * step + y + j) // step, (x * step + y + j) % step\n",
    "                cnf = f\"-{ix + dx}{iy + dy}{val} -{jx + dx}{jy + dy}{val} 0\\n\"\n",
    "                fout.write(cnf)\n",
    "\n",
    "# No number appears twice in a row or in a column\n",
    "for dx, dy in [(2, 2), (2, 6), (6, 2), (6, 6)]:\n",
    "    x, y = 0, 0\n",
    "    for val in range(1, 10):\n",
    "        for i in range(3):\n",
    "            for j in range(1, 3):\n",
    "                cnf = f\"-{i+dx}{j-1+dy}{val} -{i+dx}{j+dy}{val} 0\\n\"\n",
    "                fout.write(cnf)\n",
    "\n",
    "for dx, dy in [(2, 2), (2, 6), (6, 2), (6, 6)]:\n",
    "    x, y = 0, 0\n",
    "    for val in range(1, 10):\n",
    "        for j in range(0, 3):\n",
    "            for i in range(1, 3):\n",
    "                cnf = f\"-{i-1+dx}{j+dy}{val} -{i+dx}{j+dy}{val} 0\\n\"\n",
    "                fout.write(cnf)\n",
    "\n",
    "fout.close()"
   ],
   "metadata": {
    "collapsed": false,
    "ExecuteTime": {
     "end_time": "2023-12-06T12:27:02.689918Z",
     "start_time": "2023-12-06T12:27:02.674959Z"
    }
   }
  },
  {
   "cell_type": "markdown",
   "source": [
    "# Task 3\n",
    "\n",
    "## Sample\n",
    "\n",
    "![](https://www.cs.vu.nl/~frankh/spool/example3.jpg)"
   ],
   "metadata": {
    "collapsed": false
   }
  },
  {
   "cell_type": "code",
   "execution_count": 2,
   "outputs": [
    {
     "name": "stdout",
     "output_type": "stream",
     "text": [
      "c SAT4J: a SATisfiability library for Java (c) 2004-2007 Daniel Le Berre\r\n",
      "c This is free software under the GNU LGPL licence. See www.sat4j.org for details.\r\n",
      "c This software uses some libraries from the Jakarta project. See jakarta.apache.org for details.\r\n",
      "c no version file found!!!\r\n",
      "c sun.arch.data.model\t64\r\n",
      "c java.version\t1.8.0_382\r\n",
      "c os.name\tMac OS X\r\n",
      "c os.version\t13.5.2\r\n",
      "c os.arch\taarch64\r\n",
      "c Free memory 126231760\r\n",
      "c Max memory 1908932608\r\n",
      "c Total memory 128974848\r\n",
      "c Number of processors 8\r\n",
      "c --- Begin Solver configuration ---\r\n",
      "c Stops conflict analysis at the first Unique Implication Point\r\n",
      "c org.sat4j.minisat.constraints.MixedDataStructureDaniel@3b07d329\r\n",
      "c Limit learning to clauses of size smaller or equal to 10% of the number of variables\r\n",
      "c claDecay=0.999 varDecay=0.95 conflictBoundIncFactor=1.1 initConflictBound=100 \r\n",
      "c VSIDS like heuristics from MiniSAT using a heap and lightweight component caching from RSAT\r\n",
      "c Expensive reason simplification\r\n",
      "c Armin Biere (Picosat) restarts strategy\r\n",
      "c timeout=2147483647s\r\n",
      "c --- End Solver configuration ---\r\n",
      "c solving sudoku1+hypersudoku-rules.txt\r\n",
      "c reading problem ... \r\n",
      "c ... done. Wall clock time 0.031s.\r\n",
      "c CPU time (experimental) 0.130707s.\r\n",
      "c #vars     999\r\n",
      "c #constraints  13716\r\n",
      "c starts\t\t: 1\r\n",
      "c conflicts\t\t: 7\r\n",
      "c decisions\t\t: 14\r\n",
      "c propagations\t\t: 1257\r\n",
      "c inspects\t\t: 8754\r\n",
      "c learnt literals\t: 2\r\n",
      "c learnt binary clauses\t: 2\r\n",
      "c learnt ternary clauses\t: 1\r\n",
      "c learnt clauses\t: 5\r\n",
      "c root simplifications\t: 0\r\n",
      "c removed literals (reason simplification)\t: 15\r\n",
      "c reason swapping (by a shorter reason)\t: 0\r\n",
      "c Calls to reduceDB\t: 0\r\n",
      "c speed (decisions/second)\t: 875.0\r\n",
      "c non guided choices\t6\r\n",
      "s SATISFIABLE\r\n",
      "v -111 -112 113 -114 -115 -116 -117 -118 -119 -121 -122 -123 124 -125 -126 -127 -128 -129 -131 -132 -133 -134 -135 136 -137 -138 -139 141 -142 -143 -144 -145 -146 -147 -148 -149 -151 -152 -153 -154 -155 -156 -157 -158 159 -161 -162 -163 -164 -165 -166 -167 168 -169 -171 -172 -173 -174 175 -176 -177 -178 -179 -181 182 -183 -184 -185 -186 -187 -188 -189 -191 -192 -193 -194 -195 -196 197 -198 -199 -211 -212 -213 -214 -215 -216 217 -218 -219 -221 -222 -223 -224 225 -226 -227 -228 -229 231 -232 -233 -234 -235 -236 -237 -238 -239 -241 -242 243 -244 -245 -246 -247 -248 -249 -251 -252 -253 254 -255 -256 -257 -258 -259 -261 262 -263 -264 -265 -266 -267 -268 -269 -271 -272 -273 -274 -275 -276 -277 -278 279 -281 -282 -283 -284 -285 -286 -287 288 -289 -291 -292 -293 -294 -295 296 -297 -298 -299 -311 -312 -313 -314 -315 -316 -317 318 -319 -321 322 -323 -324 -325 -326 -327 -328 -329 -331 -332 -333 -334 -335 -336 -337 -338 339 -341 -342 -343 -344 -345 -346 347 -348 -349 -351 -352 -353 -354 355 -356 -357 -358 -359 -361 -362 -363 -364 -365 366 -367 -368 -369 -371 -372 -373 374 -375 -376 -377 -378 -379 -381 -382 383 -384 -385 -386 -387 -388 -389 391 -392 -393 -394 -395 -396 -397 -398 -399 -411 -412 -413 -414 -415 -416 -417 -418 419 -421 -422 -423 -424 -425 426 -427 -428 -429 -431 -432 -433 -434 -435 -436 -437 438 -439 -441 -442 -443 444 -445 -446 -447 -448 -449 -451 452 -453 -454 -455 -456 -457 -458 -459 -461 -462 -463 -464 465 -466 -467 -468 -469 -471 -472 -473 -474 -475 -476 477 -478 -479 481 -482 -483 -484 -485 -486 -487 -488 -489 -491 -492 493 -494 -495 -496 -497 -498 -499 -511 512 -513 -514 -515 -516 -517 -518 -519 -521 -522 523 -524 -525 -526 -527 -528 -529 -531 -532 -533 -534 -535 -536 537 -538 -539 -541 -542 -543 -544 -545 -546 -547 548 -549 551 -552 -553 -554 -555 -556 -557 -558 -559 -561 -562 -563 -564 -565 -566 -567 -568 569 -571 -572 -573 -574 -575 576 -577 -578 -579 -581 -582 -583 584 -585 -586 -587 -588 -589 -591 -592 -593 -594 595 -596 -597 -598 -599 -611 -612 -613 -614 615 -616 -617 -618 -619 621 -622 -623 -624 -625 -626 -627 -628 -629 -631 -632 -633 634 -635 -636 -637 -638 -639 -641 -642 -643 -644 -645 646 -647 -648 -649 -651 -652 653 -654 -655 -656 -657 -658 -659 -661 -662 -663 -664 -665 -666 667 -668 -669 -671 -672 -673 -674 -675 -676 -677 678 -679 -681 -682 -683 -684 -685 -686 -687 -688 689 -691 692 -693 -694 -695 -696 -697 -698 -699 -711 -712 -713 -714 -715 716 -717 -718 -719 -721 -722 -723 -724 -725 -726 727 -728 -729 -731 732 -733 -734 -735 -736 -737 -738 -739 -741 -742 -743 -744 -745 -746 -747 -748 749 -751 -752 -753 -754 -755 -756 -757 758 -759 -761 -762 763 -764 -765 -766 -767 -768 -769 771 -772 -773 -774 -775 -776 -777 -778 -779 -781 -782 -783 -784 785 -786 -787 -788 -789 -791 -792 -793 794 -795 -796 -797 -798 -799 811 -812 -813 -814 -815 -816 -817 -818 -819 -821 -822 -823 -824 -825 -826 -827 828 -829 -831 -832 833 -834 -835 -836 -837 -838 -839 -841 -842 -843 -844 845 -846 -847 -848 -849 -851 -852 -853 -854 -855 -856 857 -858 -859 -861 -862 -863 864 -865 -866 -867 -868 -869 -871 872 -873 -874 -875 -876 -877 -878 -879 -881 -882 -883 -884 -885 886 -887 -888 -889 -891 -892 -893 -894 -895 -896 -897 -898 899 -911 -912 -913 914 -915 -916 -917 -918 -919 -921 -922 -923 -924 -925 -926 -927 -928 929 -931 -932 -933 -934 935 -936 -937 -938 -939 -941 942 -943 -944 -945 -946 -947 -948 -949 -951 -952 -953 -954 -955 956 -957 -958 -959 961 -962 -963 -964 -965 -966 -967 -968 -969 -971 -972 973 -974 -975 -976 -977 -978 -979 -981 -982 -983 -984 -985 -986 987 -988 -989 -991 -992 -993 -994 -995 -996 -997 998 -999 0\r\n",
      "c Total wall clock time (in seconds) : 0.05\r\n",
      "c Total CPU time (experimental, in seconds) : 0.144495\r\n"
     ]
    }
   ],
   "source": [
    "!cat hypersudoku-rules.txt sudoku1.txt > sudoku1+hypersudoku-rules.txt\n",
    "!cat sudoku-rules.txt sudoku1.txt > sudoku1+sudoku-rules.txt\n",
    "!java -jar sat4j-core-2.0rc1.jar sudoku1+hypersudoku-rules.txt"
   ],
   "metadata": {
    "collapsed": false,
    "ExecuteTime": {
     "end_time": "2023-12-06T12:27:08.008784Z",
     "start_time": "2023-12-06T12:27:06.853066Z"
    }
   }
  },
  {
   "cell_type": "code",
   "execution_count": 5,
   "outputs": [],
   "source": [
    "solution = \"PASTE RESULT HERE\""
   ],
   "metadata": {
    "collapsed": false,
    "ExecuteTime": {
     "end_time": "2023-12-06T11:47:33.395294Z",
     "start_time": "2023-12-06T11:47:33.385584Z"
    }
   }
  },
  {
   "cell_type": "code",
   "execution_count": 6,
   "outputs": [
    {
     "name": "stdout",
     "output_type": "stream",
     "text": [
      "[3, 4, 6, 1, 9, 8, 5, 2, 7]\n",
      "[7, 5, 1, 3, 4, 2, 9, 8, 6]\n",
      "[8, 2, 9, 7, 5, 6, 4, 3, 1]\n",
      "[9, 6, 8, 4, 2, 5, 7, 1, 3]\n",
      "[2, 3, 7, 8, 1, 9, 6, 4, 5]\n",
      "[5, 1, 4, 6, 3, 7, 8, 9, 2]\n",
      "[6, 7, 2, 9, 8, 3, 1, 5, 4]\n",
      "[1, 8, 3, 5, 7, 4, 2, 6, 9]\n",
      "[4, 9, 5, 2, 6, 1, 3, 7, 8]\n"
     ]
    }
   ],
   "source": [
    "matrix = [[0 for _ in range(9)] for _ in range(9)]\n",
    "for i, j, val in list(filter(lambda x:not x.startswith('-'), solution.split(' '))):\n",
    "    i, j, val = map(int, (i, j, val))\n",
    "    matrix[i-1][j-1] = val\n",
    "\n",
    "for l in matrix:\n",
    "    print(l)"
   ],
   "metadata": {
    "collapsed": false,
    "ExecuteTime": {
     "end_time": "2023-12-06T11:47:35.470111Z",
     "start_time": "2023-12-06T11:47:35.465078Z"
    }
   }
  },
  {
   "cell_type": "markdown",
   "source": [
    "## My Example\n",
    "\n",
    "Use http://www.sudoku-space.com/hyper-sudoku/print-hyper-sudoku.php to a hyper sudoku. Write these values in clausal form, and save these to a file, eg. https://www.cs.vu.nl/~frankh/spool/sudoku1.txt is the clausal form of the example in the figure above.\n",
    "\n",
    "Refer to as `my_sudoku.txt`\n",
    "\n",
    "![](my_example.png)"
   ],
   "metadata": {
    "collapsed": false
   }
  },
  {
   "cell_type": "code",
   "execution_count": 3,
   "outputs": [
    {
     "name": "stdout",
     "output_type": "stream",
     "text": [
      "c SAT4J: a SATisfiability library for Java (c) 2004-2007 Daniel Le Berre\r\n",
      "c This is free software under the GNU LGPL licence. See www.sat4j.org for details.\r\n",
      "c This software uses some libraries from the Jakarta project. See jakarta.apache.org for details.\r\n",
      "c no version file found!!!\r\n",
      "c sun.arch.data.model\t64\r\n",
      "c java.version\t1.8.0_382\r\n",
      "c os.name\tMac OS X\r\n",
      "c os.version\t13.5.2\r\n",
      "c os.arch\taarch64\r\n",
      "c Free memory 126231760\r\n",
      "c Max memory 1908932608\r\n",
      "c Total memory 128974848\r\n",
      "c Number of processors 8\r\n",
      "c --- Begin Solver configuration ---\r\n",
      "c Stops conflict analysis at the first Unique Implication Point\r\n",
      "c org.sat4j.minisat.constraints.MixedDataStructureDaniel@3b07d329\r\n",
      "c Limit learning to clauses of size smaller or equal to 10% of the number of variables\r\n",
      "c claDecay=0.999 varDecay=0.95 conflictBoundIncFactor=1.1 initConflictBound=100 \r\n",
      "c VSIDS like heuristics from MiniSAT using a heap and lightweight component caching from RSAT\r\n",
      "c Expensive reason simplification\r\n",
      "c Armin Biere (Picosat) restarts strategy\r\n",
      "c timeout=2147483647s\r\n",
      "c --- End Solver configuration ---\r\n",
      "c solving my_sudoku+hypersudoku-rules.txt\r\n",
      "c reading problem ... \r\n",
      "c ... done. Wall clock time 0.032s.\r\n",
      "c CPU time (experimental) 0.135723s.\r\n",
      "c #vars     999\r\n",
      "c #constraints  13716\r\n",
      "c starts\t\t: 1\r\n",
      "c conflicts\t\t: 2\r\n",
      "c decisions\t\t: 3\r\n",
      "c propagations\t\t: 822\r\n",
      "c inspects\t\t: 4982\r\n",
      "c learnt literals\t: 1\r\n",
      "c learnt binary clauses\t: 1\r\n",
      "c learnt ternary clauses\t: 0\r\n",
      "c learnt clauses\t: 1\r\n",
      "c root simplifications\t: 0\r\n",
      "c removed literals (reason simplification)\t: 0\r\n",
      "c reason swapping (by a shorter reason)\t: 0\r\n",
      "c Calls to reduceDB\t: 0\r\n",
      "c speed (decisions/second)\t: 250.0\r\n",
      "c non guided choices\t1\r\n",
      "s SATISFIABLE\r\n",
      "v -111 -112 113 -114 -115 -116 -117 -118 -119 -121 -122 -123 -124 -125 -126 -127 -128 129 131 -132 -133 -134 -135 -136 -137 -138 -139 -141 -142 -143 -144 145 -146 -147 -148 -149 -151 152 -153 -154 -155 -156 -157 -158 -159 -161 -162 -163 164 -165 -166 -167 -168 -169 -171 -172 -173 -174 -175 -176 -177 178 -179 -181 -182 -183 -184 -185 -186 187 -188 -189 -191 -192 -193 -194 -195 196 -197 -198 -199 -211 -212 -213 -214 -215 -216 217 -218 -219 -221 -222 -223 -224 -225 226 -227 -228 -229 -231 -232 -233 -234 -235 -236 -237 238 -239 -241 -242 243 -244 -245 -246 -247 -248 -249 251 -252 -253 -254 -255 -256 -257 -258 -259 -261 -262 -263 -264 -265 -266 -267 -268 269 -271 272 -273 -274 -275 -276 -277 -278 -279 -281 -282 -283 -284 285 -286 -287 -288 -289 -291 -292 -293 294 -295 -296 -297 -298 -299 -311 -312 -313 -314 315 -316 -317 -318 -319 -321 322 -323 -324 -325 -326 -327 -328 -329 -331 -332 -333 334 -335 -336 -337 -338 -339 -341 -342 -343 -344 -345 -346 347 -348 -349 -351 -352 -353 -354 -355 356 -357 -358 -359 -361 -362 -363 -364 -365 -366 -367 368 -369 371 -372 -373 -374 -375 -376 -377 -378 -379 -381 -382 383 -384 -385 -386 -387 -388 -389 -391 -392 -393 -394 -395 -396 -397 -398 399 -411 412 -413 -414 -415 -416 -417 -418 -419 421 -422 -423 -424 -425 -426 -427 -428 -429 -431 -432 -433 -434 435 -436 -437 -438 -439 -441 -442 -443 -444 -445 -446 -447 -448 449 -451 -452 453 -454 -455 -456 -457 -458 -459 -461 -462 -463 -464 -465 -466 467 -468 -469 -471 -472 -473 -474 -475 476 -477 -478 -479 -481 -482 -483 484 -485 -486 -487 -488 -489 -491 -492 -493 -494 -495 -496 -497 498 -499 -511 -512 -513 514 -515 -516 -517 -518 -519 -521 -522 523 -524 -525 -526 -527 -528 -529 -531 -532 -533 -534 -535 536 -537 -538 -539 -541 542 -543 -544 -545 -546 -547 -548 -549 -551 -552 -553 -554 -555 -556 -557 558 -559 -561 -562 -563 -564 565 -566 -567 -568 -569 -571 -572 -573 -574 -575 -576 -577 -578 579 581 -582 -583 -584 -585 -586 -587 -588 -589 -591 -592 -593 -594 -595 -596 597 -598 -599 -611 -612 -613 -614 -615 -616 -617 618 -619 -621 -622 -623 -624 -625 -626 627 -628 -629 -631 -632 -633 -634 -635 -636 -637 -638 639 641 -642 -643 -644 -645 -646 -647 -648 -649 -651 -652 -653 654 -655 -656 -657 -658 -659 -661 -662 -663 -664 -665 666 -667 -668 -669 -671 -672 -673 -674 675 -676 -677 -678 -679 -681 682 -683 -684 -685 -686 -687 -688 -689 -691 -692 693 -694 -695 -696 -697 -698 -699 -711 -712 -713 -714 -715 716 -717 -718 -719 -721 -722 -723 -724 725 -726 -727 -728 -729 -731 732 -733 -734 -735 -736 -737 -738 -739 -741 -742 -743 -744 -745 -746 -747 748 -749 -751 -752 -753 -754 -755 -756 757 -758 -759 -761 -762 763 -764 -765 -766 -767 -768 -769 -771 -772 -773 774 -775 -776 -777 -778 -779 -781 -782 -783 -784 -785 -786 -787 -788 789 791 -792 -793 -794 -795 -796 -797 -798 -799 -811 -812 -813 -814 -815 -816 -817 -818 819 -821 -822 -823 824 -825 -826 -827 -828 -829 -831 -832 833 -834 -835 -836 -837 -838 -839 -841 -842 -843 -844 -845 846 -847 -848 -849 -851 -852 -853 -854 855 -856 -857 -858 -859 861 -862 -863 -864 -865 -866 -867 -868 -869 -871 -872 -873 -874 -875 -876 877 -878 -879 -881 -882 -883 -884 -885 -886 -887 888 -889 -891 892 -893 -894 -895 -896 -897 -898 -899 911 -912 -913 -914 -915 -916 -917 -918 -919 -921 -922 -923 -924 -925 -926 -927 928 -929 -931 -932 -933 -934 -935 -936 937 -938 -939 -941 -942 -943 944 -945 -946 -947 -948 -949 -951 -952 -953 -954 -955 -956 -957 -958 959 -961 962 -963 -964 -965 -966 -967 -968 -969 -971 -972 973 -974 -975 -976 -977 -978 -979 -981 -982 -983 -984 -985 986 -987 -988 -989 -991 -992 -993 -994 995 -996 -997 -998 -999 0\r\n",
      "c Total wall clock time (in seconds) : 0.046\r\n",
      "c Total CPU time (experimental, in seconds) : 0.145421\r\n"
     ]
    }
   ],
   "source": [
    "!cat hypersudoku-rules.txt my_sudoku.txt > my_sudoku+hypersudoku-rules.txt\n",
    "!java -jar sat4j-core-2.0rc1.jar my_sudoku+hypersudoku-rules.txt"
   ],
   "metadata": {
    "collapsed": false,
    "ExecuteTime": {
     "end_time": "2023-12-06T12:27:17.300314Z",
     "start_time": "2023-12-06T12:27:16.352366Z"
    }
   }
  },
  {
   "cell_type": "code",
   "execution_count": 8,
   "outputs": [],
   "source": [
    "solution = \"PASTE RESULT HERE\""
   ],
   "metadata": {
    "collapsed": false,
    "ExecuteTime": {
     "end_time": "2023-12-06T11:51:07.862051Z",
     "start_time": "2023-12-06T11:51:07.857784Z"
    }
   }
  },
  {
   "cell_type": "code",
   "execution_count": 9,
   "outputs": [
    {
     "name": "stdout",
     "output_type": "stream",
     "text": [
      "[3, 9, 1, 5, 2, 4, 8, 7, 6]\n",
      "[7, 6, 8, 3, 1, 9, 2, 5, 4]\n",
      "[5, 2, 4, 7, 6, 8, 1, 3, 9]\n",
      "[2, 1, 5, 9, 3, 7, 6, 4, 8]\n",
      "[4, 3, 6, 2, 8, 5, 9, 1, 7]\n",
      "[8, 7, 9, 1, 4, 6, 5, 2, 3]\n",
      "[6, 5, 2, 8, 7, 3, 4, 9, 1]\n",
      "[9, 4, 3, 6, 5, 1, 7, 8, 2]\n",
      "[1, 8, 7, 4, 9, 2, 3, 6, 5]\n"
     ]
    }
   ],
   "source": [
    "matrix = [[0 for _ in range(9)] for _ in range(9)]\n",
    "for i, j, val in list(filter(lambda x:not x.startswith('-'), solution.split(' '))):\n",
    "    i, j, val = map(int, (i, j, val))\n",
    "    matrix[i-1][j-1] = val\n",
    "\n",
    "for l in matrix:\n",
    "    print(l)"
   ],
   "metadata": {
    "collapsed": false,
    "ExecuteTime": {
     "end_time": "2023-12-06T11:51:11.441Z",
     "start_time": "2023-12-06T11:51:11.422964Z"
    }
   }
  },
  {
   "cell_type": "markdown",
   "source": [
    "![](my_key.png)"
   ],
   "metadata": {
    "collapsed": false
   }
  },
  {
   "cell_type": "markdown",
   "source": [
    "# Task 4\n",
    "\n",
    "First predict which will be faster: solving the same puzzle as a normal sudoku, or as a hyper sudoku?\n",
    "\n",
    "**My Answer: I would guess that normal sudoku might be faster because the number of feasible solutions of normal sudoku is greater than or equal to that of hyper sudoku, given that any hyper sudoku solution must be a normal sudoku solution.**\n",
    "\n",
    "Then run a number of experiments to compare the sta4j runtimes on the same puzzle, but under the two different rule sets. What do you observe? Can you explain this?\n",
    "\n",
    "**My Answer: The observation is that the CPU times are quite close to each other. This shows the applicability of the algorithm to industry.**"
   ],
   "metadata": {
    "collapsed": false
   }
  },
  {
   "cell_type": "code",
   "execution_count": 7,
   "outputs": [
    {
     "data": {
      "text/plain": "  0%|          | 0/25 [00:00<?, ?it/s]",
      "application/vnd.jupyter.widget-view+json": {
       "version_major": 2,
       "version_minor": 0,
       "model_id": "1896da22cd8642ee853959acf352b5fa"
      }
     },
     "metadata": {},
     "output_type": "display_data"
    },
    {
     "name": "stdout",
     "output_type": "stream",
     "text": [
      "norm average cpu time : 0.12742656000000002\n"
     ]
    }
   ],
   "source": [
    "import subprocess\n",
    "from tqdm.auto import tqdm\n",
    "\n",
    "record_norm = []\n",
    "for i in tqdm(range(25)):\n",
    "    norm = subprocess.run(['java', '-jar', 'sat4j-core-2.0rc1.jar', 'sudoku1+sudoku-rules.txt'], stdout=subprocess.PIPE).stdout.decode('utf-8')\n",
    "    t_norm = float(norm.split('\\n')[-2].split(':')[-1])\n",
    "    record_norm.append(t_norm)\n",
    "\n",
    "print(f'norm average cpu time : {sum(record_norm)/len(record_norm)}')"
   ],
   "metadata": {
    "collapsed": false,
    "ExecuteTime": {
     "end_time": "2023-12-06T12:29:05.919894Z",
     "start_time": "2023-12-06T12:28:49.723950Z"
    }
   }
  },
  {
   "cell_type": "code",
   "execution_count": 6,
   "outputs": [
    {
     "data": {
      "text/plain": "  0%|          | 0/25 [00:00<?, ?it/s]",
      "application/vnd.jupyter.widget-view+json": {
       "version_major": 2,
       "version_minor": 0,
       "model_id": "c7c14afd6b534a72bbde930c30c9df23"
      }
     },
     "metadata": {},
     "output_type": "display_data"
    },
    {
     "name": "stdout",
     "output_type": "stream",
     "text": [
      "hyper average cpu time : 0.12959591999999998\n"
     ]
    }
   ],
   "source": [
    "record_hyper = []\n",
    "for i in tqdm(range(25)):\n",
    "    hyper = subprocess.run(['java', '-jar', 'sat4j-core-2.0rc1.jar', 'sudoku1+hypersudoku-rules.txt'], stdout=subprocess.PIPE).stdout.decode('utf-8')\n",
    "    t_hyper = float(hyper.split('\\n')[-2].split(':')[-1])\n",
    "    record_hyper.append(t_hyper)\n",
    "\n",
    "print(f'hyper average cpu time : {sum(record_hyper)/len(record_hyper)}')"
   ],
   "metadata": {
    "collapsed": false,
    "ExecuteTime": {
     "end_time": "2023-12-06T12:28:43.149038Z",
     "start_time": "2023-12-06T12:28:27.142139Z"
    }
   }
  },
  {
   "cell_type": "code",
   "execution_count": null,
   "outputs": [],
   "source": [],
   "metadata": {
    "collapsed": false
   }
  }
 ],
 "metadata": {
  "kernelspec": {
   "display_name": "Python 3",
   "language": "python",
   "name": "python3"
  },
  "language_info": {
   "codemirror_mode": {
    "name": "ipython",
    "version": 2
   },
   "file_extension": ".py",
   "mimetype": "text/x-python",
   "name": "python",
   "nbconvert_exporter": "python",
   "pygments_lexer": "ipython2",
   "version": "2.7.6"
  }
 },
 "nbformat": 4,
 "nbformat_minor": 0
}
